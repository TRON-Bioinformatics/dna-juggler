{
 "cells": [
  {
   "cell_type": "markdown",
   "id": "02065570-fe0c-4b4d-aeb8-60032ee7905c",
   "metadata": {},
   "source": [
    "# DNA juggler\n",
    "\n",
    "This notebook provides a quick way of translating DNA using the Biopython library (Cock et al., 2009)."
   ]
  },
  {
   "cell_type": "code",
   "execution_count": 15,
   "id": "6b347c62-1595-414d-bf3f-9822d8fdd3e5",
   "metadata": {},
   "outputs": [],
   "source": [
    "from Bio import SeqIO, Align, SeqRecord\n",
    "from Bio.Seq import Seq, IUPAC\n",
    "from Bio.Alphabet import _verify_alphabet\n",
    "from biomart import BiomartServer\n",
    "from biomart import BiomartServer\n",
    "from io import StringIO\n",
    "import pandas as pd\n",
    "import pprint"
   ]
  },
  {
   "cell_type": "code",
   "execution_count": 2,
   "id": "e4feffa5-358e-4503-a40f-02c299cfc1e9",
   "metadata": {},
   "outputs": [],
   "source": [
    "def validate_sequence(sequence_str):\n",
    "    seq = Seq(sequence_str, alphabet=IUPAC.IUPACUnambiguousDNA)\n",
    "    if not _verify_alphabet(seq):\n",
    "        raise ValueError(\"The provided sequence does not correspond to unambiguous DNA\")\n",
    "    if len(sequence_str) % 3 != 0:\n",
    "        raise ValueError(\"The provided sequence must represent whole codons\")"
   ]
  },
  {
   "cell_type": "code",
   "execution_count": 9,
   "id": "cd70af3b-bc05-411b-b355-8f617851df05",
   "metadata": {},
   "outputs": [],
   "source": [
    "server = BiomartServer( \"http://grch37.ensembl.org/biomart\" )\n",
    "# use this server for GRCh38\n",
    "# server = BiomartServer( \"http://ensembl.org/biomart\" )\n",
    "gene_ensembl = server.datasets['hsapiens_gene_ensembl']"
   ]
  },
  {
   "cell_type": "code",
   "execution_count": 5,
   "id": "671a61dd-0973-4518-8a9a-bcd087f81ede",
   "metadata": {},
   "outputs": [],
   "source": [
    "def get_transcript_definition(transcript_id):\n",
    "    response = gene_ensembl.search({\n",
    "      'filters': {\n",
    "          'ensembl_transcript_id': [transcript_id]\n",
    "      },\n",
    "      'attributes': [\n",
    "          'ensembl_gene_id', 'ensembl_transcript_id', 'external_gene_name', \n",
    "          'chromosome_name', 'strand',\n",
    "          # 'ensembl_exon_id', \n",
    "          #'cds_start', 'cds_end', 'exon_chrom_start', 'exon_chrom_end',\n",
    "          #'genomic_coding_start', 'genomic_coding_end'\n",
    "          'coding'\n",
    "      ]\n",
    "    }, header=1)\n",
    "    results = pd.read_csv(StringIO(response.text), sep=\"\\t\")\n",
    "    return results"
   ]
  },
  {
   "cell_type": "markdown",
   "id": "4558eb44-8f57-4500-9ea9-8037645b9645",
   "metadata": {},
   "source": [
    "## Input your DNA sequence or an Ensembl transcript ID\n",
    "\n",
    "e.g.: CGTCAAGGCGCTCTTGCCTACGCCACCAGCTCCAACCAC or ENST00000311936\n",
    "\n",
    "**NOTE**: beware that the coding sequence of genes in the negative strand is already reversed and complemented"
   ]
  },
  {
   "cell_type": "code",
   "execution_count": 16,
   "id": "f4a87e24-d26f-4c72-b03e-076d0d015e6d",
   "metadata": {},
   "outputs": [
    {
     "name": "stdout",
     "output_type": "stream",
     "text": [
      "Input your DNA or transcript ID sequence:\n"
     ]
    },
    {
     "name": "stdin",
     "output_type": "stream",
     "text": [
      " ENST00000311936\n"
     ]
    },
    {
     "name": "stdout",
     "output_type": "stream",
     "text": [
      "                                     Coding sequence   Gene stable ID  \\\n",
      "0  ATGACTGAATATAAACTTGTGGTAGTTGGAGCTGGTGGCGTAGGCA...  ENSG00000133703   \n",
      "\n",
      "  Transcript stable ID Gene name  Chromosome/scaffold name  Strand  \n",
      "0      ENST00000311936      KRAS                        12      -1  \n"
     ]
    },
    {
     "data": {
      "text/plain": [
       "'ATGACTGAATATAAACTTGTGGTAGTTGGAGCTGGTGGCGTAGGCAAGAGTGCCTTGACGATACAGCTAATTCAGAATCATTTTGTGGACGAATATGATCCAACAATAGAGGATTCCTACAGGAAGCAAGTAGTAATTGATGGAGAAACCTGTCTCTTGGATATTCTCGACACAGCAGGTCAAGAGGAGTACAGTGCAATGAGGGACCAGTACATGAGGACTGGGGAGGGCTTTCTTTGTGTATTTGCCATAAATAATACTAAATCATTTGAAGATATTCACCATTATAGAGAACAAATTAAAAGAGTTAAGGACTCTGAAGATGTACCTATGGTCCTAGTAGGAAATAAATGTGATTTGCCTTCTAGAACAGTAGACACAAAACAGGCTCAGGACTTAGCAAGAAGTTATGGAATTCCTTTTATTGAAACATCAGCAAAGACAAGACAGGGTGTTGATGATGCCTTCTATACATTAGTTCGAGAAATTCGAAAACATAAAGAAAAGATGAGCAAAGATGGTAAAAAGAAGAAAAAGAAGTCAAAGACAAAGTGTGTAATTATGTAA'"
      ]
     },
     "execution_count": 16,
     "metadata": {},
     "output_type": "execute_result"
    }
   ],
   "source": [
    "print(\"Input your DNA or transcript ID sequence:\")\n",
    "sequence_str = input()\n",
    "if sequence_str.startswith('ENST'):\n",
    "    transcript = get_transcript_definition(transcript_id=transcript_id)\n",
    "    seq_record = SeqRecord.SeqRecord(Seq(transcript['Coding sequence'].iloc[0]))\n",
    "    pprint.pprint(transcript)\n",
    "else:\n",
    "    validate_sequence(sequence_str.upper())\n",
    "    seq_record = SeqRecord.SeqRecord(Seq(sequence_str))\n",
    "    \n",
    "str(seq_record.seq)"
   ]
  },
  {
   "cell_type": "markdown",
   "id": "66d8905b-fa44-4f3c-bd9b-f1a8b5f29261",
   "metadata": {},
   "source": [
    "## Translated sequence"
   ]
  },
  {
   "cell_type": "code",
   "execution_count": 7,
   "id": "262405ef-970e-443d-a349-277e77e43061",
   "metadata": {},
   "outputs": [
    {
     "data": {
      "text/plain": [
       "'MTEYKLVVVGAGGVGKSALTIQLIQNHFVDEYDPTIEDSYRKQVVIDGETCLLDILDTAGQEEYSAMRDQYMRTGEGFLCVFAINNTKSFEDIHHYREQIKRVKDSEDVPMVLVGNKCDLPSRTVDTKQAQDLARSYGIPFIETSAKTRQGVDDAFYTLVREIRKHKEKMSKDGKKKKKKSKTKCVIM*'"
      ]
     },
     "execution_count": 7,
     "metadata": {},
     "output_type": "execute_result"
    }
   ],
   "source": [
    "str(seq_record.translate().seq)"
   ]
  },
  {
   "cell_type": "markdown",
   "id": "a2e40029-0d2e-4ab2-8159-c3bd470586d1",
   "metadata": {},
   "source": [
    "## Reversed and complemented DNA sequence"
   ]
  },
  {
   "cell_type": "code",
   "execution_count": 38,
   "id": "97cadb14-c026-41a0-9912-ed1d2c03700c",
   "metadata": {},
   "outputs": [
    {
     "data": {
      "text/plain": [
       "'TTACATAATTACACACTTTGTCTTTGACTTCTTTTTCTTCTTTTTACCATCTTTGCTCATCTTTTCTTTATGTTTTCGAATTTCTCGAACTAATGTATAGAAGGCATCATCAACACCCTGTCTTGTCTTTGCTGATGTTTCAATAAAAGGAATTCCATAACTTCTTGCTAAGTCCTGAGCCTGTTTTGTGTCTACTGTTCTAGAAGGCAAATCACATTTATTTCCTACTAGGACCATAGGTACATCTTCAGAGTCCTTAACTCTTTTAATTTGTTCTCTATAATGGTGAATATCTTCAAATGATTTAGTATTATTTATGGCAAATACACAAAGAAAGCCCTCCCCAGTCCTCATGTACTGGTCCCTCATTGCACTGTACTCCTCTTGACCTGCTGTGTCGAGAATATCCAAGAGACAGGTTTCTCCATCAATTACTACTTGCTTCCTGTAGGAATCCTCTATTGTTGGATCATATTCGTCCACAAAATGATTCTGAATTAGCTGTATCGTCAAGGCACTCTTGCCTACGCCACCAGCTCCAACTACCACAAGTTTATATTCAGTCAT'"
      ]
     },
     "execution_count": 38,
     "metadata": {},
     "output_type": "execute_result"
    }
   ],
   "source": [
    "str(seq_record.reverse_complement().seq)"
   ]
  },
  {
   "cell_type": "markdown",
   "id": "ae78dbe9-4692-4fb4-be86-17038cdf69f8",
   "metadata": {},
   "source": [
    "## Reversed, complemented and translated sequence"
   ]
  },
  {
   "cell_type": "code",
   "execution_count": 39,
   "id": "bed01e6f-6a7c-4eb2-b021-57dc79e01150",
   "metadata": {},
   "outputs": [
    {
     "data": {
      "text/plain": [
       "'LHNYTLCL*LLFLLFTIFAHLFFMFSNFSN*CIEGIINTLSCLC*CFNKRNSITSC*VLSLFCVYCSRRQITFISY*DHRYIFRVLNSFNLFSIMVNIFK*FSIIYGKYTKKALPSPHVLVPHCTVLLLTCCVENIQETGFSINYYLLPVGILYCWIIFVHKMILN*LYRQGTLAYATSSNYHKFIFSH'"
      ]
     },
     "execution_count": 39,
     "metadata": {},
     "output_type": "execute_result"
    }
   ],
   "source": [
    "str(seq_record.reverse_complement().translate().seq)"
   ]
  }
 ],
 "metadata": {
  "kernelspec": {
   "display_name": "Python 3 (ipykernel)",
   "language": "python",
   "name": "python3"
  },
  "language_info": {
   "codemirror_mode": {
    "name": "ipython",
    "version": 3
   },
   "file_extension": ".py",
   "mimetype": "text/x-python",
   "name": "python",
   "nbconvert_exporter": "python",
   "pygments_lexer": "ipython3",
   "version": "3.8.12"
  }
 },
 "nbformat": 4,
 "nbformat_minor": 5
}
